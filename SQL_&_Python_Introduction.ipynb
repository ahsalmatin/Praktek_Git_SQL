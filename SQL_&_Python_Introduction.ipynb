{
  "nbformat": 4,
  "nbformat_minor": 0,
  "metadata": {
    "colab": {
      "provenance": [],
      "collapsed_sections": [],
      "authorship_tag": "ABX9TyNZpjUckZCoJYG5jiN24LKZ",
      "include_colab_link": true
    },
    "kernelspec": {
      "name": "python3",
      "display_name": "Python 3"
    },
    "language_info": {
      "name": "python"
    }
  },
  "cells": [
    {
      "cell_type": "markdown",
      "metadata": {
        "id": "view-in-github",
        "colab_type": "text"
      },
      "source": [
        "<a href=\"https://colab.research.google.com/github/ahsalmatin/Praktek_Git_SQL/blob/master/SQL_%26_Python_Introduction.ipynb\" target=\"_parent\"><img src=\"https://colab.research.google.com/assets/colab-badge.svg\" alt=\"Open In Colab\"/></a>"
      ]
    },
    {
      "cell_type": "markdown",
      "source": [],
      "metadata": {
        "id": "6sVKVBhMzMbn"
      }
    },
    {
      "cell_type": "markdown",
      "source": [
        "# **Install Library psycopg2**"
      ],
      "metadata": {
        "id": "FQWCU2ITzN9O"
      }
    },
    {
      "cell_type": "markdown",
      "source": [
        "psycopg2 adalah library python untuk menghubungkan dengan PostgreSQL\n",
        "\n",
        "\n",
        "*   Library lain untuk SQL Server = pyodbc\n",
        "*   Library lain untuk MySQL = myqli\n",
        "*   Library lain untuk SQLite = sqlite"
      ],
      "metadata": {
        "id": "PgzaQCeB15tD"
      }
    },
    {
      "cell_type": "code",
      "source": [
        "!pip install psycopg2 #Install Library psycopg2"
      ],
      "metadata": {
        "colab": {
          "base_uri": "https://localhost:8080/"
        },
        "id": "-EJ7IUx2zObG",
        "outputId": "e1f54a32-b16a-4b93-c849-f296e5f4f7ba"
      },
      "execution_count": 1,
      "outputs": [
        {
          "output_type": "stream",
          "name": "stdout",
          "text": [
            "Looking in indexes: https://pypi.org/simple, https://us-python.pkg.dev/colab-wheels/public/simple/\n",
            "Requirement already satisfied: psycopg2 in /usr/local/lib/python3.7/dist-packages (2.9.3)\n"
          ]
        }
      ]
    },
    {
      "cell_type": "markdown",
      "source": [
        "# **Import Library**"
      ],
      "metadata": {
        "id": "9rAnFohe4yH9"
      }
    },
    {
      "cell_type": "markdown",
      "source": [
        "Import Library psycopg2 dan pandas.\n",
        "\n",
        "\n",
        "\n",
        "*   Psycopg2 untuk conect/menghubungkan dengan database postgreSQL\n",
        "*   Pandas untuk pengolahan data didalam python\n",
        "\n"
      ],
      "metadata": {
        "id": "wpTajBzn43Nq"
      }
    },
    {
      "cell_type": "code",
      "source": [
        "#import library\n",
        "import psycopg2\n",
        "import pandas as pd"
      ],
      "metadata": {
        "id": "8pdbz2pW5NgT"
      },
      "execution_count": 2,
      "outputs": []
    },
    {
      "cell_type": "code",
      "source": [
        "conn = psycopg2.connect(\n",
        "    host = \"digitalskoladb.c04me33o8tni.ap-southeast-1.rds.amazonaws.com\",\n",
        "    database = 'sandbox',\n",
        "    user = 'se_sql1_p',\n",
        "    password = 'lholho12345!')\n",
        "conn.set_client_encoding('UTF8')"
      ],
      "metadata": {
        "id": "CACbxRXq7IEe"
      },
      "execution_count": 6,
      "outputs": []
    }
  ]
}